{
 "cells": [
  {
   "cell_type": "markdown",
   "source": [
    "# Classification"
   ],
   "metadata": {
    "collapsed": false
   }
  },
  {
   "cell_type": "code",
   "execution_count": 56,
   "outputs": [],
   "source": [
    "import numpy as np\n",
    "import pandas as pd\n",
    "import h5py\n",
    "from scipy.signal import welch\n",
    "import matplotlib.pyplot as plt\n",
    "from sklearn.svm import SVC\n",
    "from sklearn.model_selection import GridSearchCV\n",
    "from sklearn import metrics\n",
    "from seizure_data_processing.pre_processing import features as ff\n",
    "from seizure_data_processing.config import DATA_DIR"
   ],
   "metadata": {
    "collapsed": false
   }
  },
  {
   "cell_type": "markdown",
   "source": [
    "Load data"
   ],
   "metadata": {
    "collapsed": false
   }
  },
  {
   "cell_type": "code",
   "execution_count": 57,
   "outputs": [
    {
     "data": {
      "text/plain": "['bckg', 'post_ict', 'pre_ict', 'seiz']"
     },
     "execution_count": 57,
     "metadata": {},
     "output_type": "execute_result"
    }
   ],
   "source": [
    "f = h5py.File(DATA_DIR + \"chb01_folds.h5\", \"r\")\n",
    "list(f.keys())"
   ],
   "metadata": {
    "collapsed": false
   }
  },
  {
   "cell_type": "code",
   "execution_count": 58,
   "outputs": [
    {
     "data": {
      "text/plain": "['1', '2', '3', '4', '5', '6', '7']"
     },
     "execution_count": 58,
     "metadata": {},
     "output_type": "execute_result"
    }
   ],
   "source": [
    "seiz_data = f[\"seiz\"]\n",
    "list(seiz_data.keys())"
   ],
   "metadata": {
    "collapsed": false
   }
  },
  {
   "cell_type": "code",
   "execution_count": 59,
   "outputs": [
    {
     "data": {
      "text/plain": "['test', 'test_ids', 'train', 'train_ids']"
     },
     "execution_count": 59,
     "metadata": {},
     "output_type": "execute_result"
    }
   ],
   "source": [
    "bckg_data = f[\"bckg\"]\n",
    "list(bckg_data.keys())"
   ],
   "metadata": {
    "collapsed": false
   }
  },
  {
   "cell_type": "code",
   "execution_count": 60,
   "outputs": [],
   "source": [
    "train_bckg = np.array(bckg_data[\"train\"][:])\n",
    "train_ids = np.array(bckg_data[\"train_ids\"][:])\n",
    "# train_ids = f.get('/bckg/train_ids').value\n",
    "train = pd.DataFrame(data=train_bckg.T)\n",
    "train[\"ids\"] = train_ids.T\n",
    "# train['label'] = -1"
   ],
   "metadata": {
    "collapsed": false
   }
  },
  {
   "cell_type": "code",
   "execution_count": 61,
   "outputs": [],
   "source": [
    "def extract_features(segment, fs):\n",
    "    f, Pxx = welch(segment, fs=fs, axis=0, nperseg=fs / 2)\n",
    "    features = []\n",
    "    features.append(np.mean(segment, axis=0))\n",
    "    features.append(np.var(segment, axis=0))\n",
    "    features.append(ff.skew(segment, axis=0))\n",
    "    features.append(ff.kurtosis(segment, axis=0))\n",
    "    features.append(ff.line_length(segment, axis=0))\n",
    "    features.append(ff.mean_power(f, Pxx, 13, 30))\n",
    "    features.append(ff.mean_power(f, Pxx, 30, 50))\n",
    "    features.append(ff.mean_power(f, Pxx, 7, 13))\n",
    "    features = np.array(features)\n",
    "    return features.flatten(\"C\")"
   ],
   "metadata": {
    "collapsed": false
   }
  },
  {
   "cell_type": "code",
   "execution_count": 62,
   "outputs": [
    {
     "data": {
      "text/plain": "array([-9.71504094e-01, -4.26833544e+01,  9.20537637e+00, -1.06856024e+01,\n        3.23243181e+01, -3.45833472e+01, -5.54418757e+01,  1.24706394e+01,\n        2.52335387e+01,  2.71461739e+01, -2.86561049e+01, -1.64650214e+02,\n       -1.16419041e+02,  1.10068293e+02,  5.15788181e+01, -1.86948530e+02,\n       -8.37579386e+00, -9.68923593e+01,  8.23128809e+02,  5.97827439e+02,\n        7.09271788e+02,  4.11466466e+02,  1.19514456e+03,  1.69278168e+03,\n        6.09111122e+02,  7.60791514e+02,  1.42792364e+03,  1.78913219e+03,\n        2.18631709e+02,  1.72696484e+03,  1.20210030e+03,  2.00951823e+03,\n        7.12136527e+02,  2.85535789e+03,  1.69858789e+03,  4.82976297e+02,\n       -1.01333457e+00, -1.24588995e+00,  6.27204848e-01, -3.66998011e-01,\n        7.40504816e-01, -8.01569859e-02,  9.22935073e-02, -7.26837057e-01,\n       -2.09650984e-01, -1.20357341e+00, -2.98944597e-01, -2.77355392e-01,\n       -3.05949107e-01, -7.00766305e-01,  1.92073545e-01, -6.80581100e-01,\n       -3.14146791e-01, -2.41597313e-02,  4.48610213e-01,  1.67327275e+00,\n        2.03566106e-02,  1.54216400e+00, -2.01551992e-01,  3.37297646e-02,\n       -7.23351204e-01,  3.49408328e-01, -3.43277521e-01,  1.37129584e+00,\n        1.43675845e+00, -6.35660892e-01, -4.21767203e-01,  1.04601034e-02,\n       -7.13535252e-01, -7.71590282e-01,  1.10334159e-01, -5.66212498e-01,\n        7.06719617e+02,  5.57419341e+02,  5.75418050e+02,  6.05387824e+02,\n        8.98996646e+02,  9.23379241e+02,  5.97461202e+02,  7.89649887e+02,\n        1.80806367e+03,  1.34517911e+03,  7.26951224e+02,  1.04373859e+03,\n        1.31813631e+03,  1.25828224e+03,  7.09714049e+02,  1.24167183e+03,\n        1.00465451e+03,  7.31665997e+02,  4.11557045e+00,  3.59790206e+00,\n        3.05957649e+00,  3.70818472e+00,  9.92900464e+00,  1.12015264e+01,\n        2.88807106e+00,  1.02691448e+01,  7.17873109e+01,  2.67609010e+01,\n        9.36874832e+00,  8.35153745e+00,  2.57792562e+01,  1.98062802e+01,\n        9.04969090e+00,  1.90512989e+01,  1.59969802e+01,  4.48648462e+00,\n        3.27619615e+00,  1.21695187e+00,  9.81110693e-01,  2.74349638e+00,\n        2.65599372e+00,  7.74894935e+00,  1.98903591e+00,  4.31285920e+00,\n        1.68943985e+00,  1.21237159e+00,  3.09487782e+00,  5.23635707e+00,\n        4.18950365e+00,  6.84254780e+00,  1.34573047e+00,  7.61816194e+00,\n        3.07174618e+00,  3.31287688e+00,  1.97151415e+01,  4.58303458e+00,\n        2.04009314e+01,  4.56650894e+01,  3.58621372e+01,  1.41088191e+01,\n        1.03823912e+01,  4.23371470e+01,  1.37787996e+02,  7.97398927e+01,\n        1.19092540e+01,  4.34538218e+01,  3.91858688e+01,  3.64179899e+01,\n        1.38291980e+01,  3.11088868e+01,  2.79766621e+01,  1.44770912e+01])"
     },
     "execution_count": 62,
     "metadata": {},
     "output_type": "execute_result"
    }
   ],
   "source": [
    "seg = train_bckg.T[1:256, :]\n",
    "extract_features(seg, 256)"
   ],
   "metadata": {
    "collapsed": false
   }
  },
  {
   "cell_type": "code",
   "execution_count": 63,
   "outputs": [],
   "source": [
    "Nids = train[\"ids\"].unique()\n",
    "fs = 256\n",
    "segsize = fs * 4\n",
    "train_bckg_feats = []\n",
    "for n in Nids:\n",
    "    data = train.loc[train[\"ids\"] == n, :].copy()\n",
    "    data.drop(columns=[\"ids\"], inplace=True)\n",
    "    for chunk in ff.df_chunker(data, size=segsize, overlap=0):\n",
    "        if len(chunk) < segsize:\n",
    "            continue\n",
    "        train_bckg_feats.append(extract_features(chunk.to_numpy(), fs))"
   ],
   "metadata": {
    "collapsed": false
   }
  },
  {
   "cell_type": "code",
   "execution_count": 64,
   "outputs": [],
   "source": [
    "train_bckg_feats = np.stack(train_bckg_feats)"
   ],
   "metadata": {
    "collapsed": false
   }
  },
  {
   "cell_type": "code",
   "execution_count": 64,
   "outputs": [],
   "source": [],
   "metadata": {
    "collapsed": false
   }
  },
  {
   "cell_type": "markdown",
   "source": [
    "Seizure features"
   ],
   "metadata": {
    "collapsed": false
   }
  },
  {
   "cell_type": "code",
   "execution_count": 65,
   "outputs": [
    {
     "name": "stdout",
     "output_type": "stream",
     "text": [
      "(10240, 18)\n",
      "(6912, 18)\n",
      "(10240, 18)\n",
      "(13056, 18)\n",
      "(23040, 18)\n",
      "(23808, 18)\n",
      "(25856, 18)\n"
     ]
    }
   ],
   "source": [
    "seiz_feats = dict()\n",
    "for n in seiz_data.keys():\n",
    "    data = np.array(seiz_data[n][:]).T\n",
    "    print(data.shape)\n",
    "    temp = []\n",
    "    for chunk in ff.chunker(data, size=segsize, overlap=int(np.round(0.99 * segsize))):\n",
    "        if len(chunk) < segsize:\n",
    "            continue\n",
    "        temp.append(extract_features(chunk, fs))\n",
    "    seiz_feats[n] = np.stack(temp, axis=0)"
   ],
   "metadata": {
    "collapsed": false
   }
  },
  {
   "cell_type": "code",
   "execution_count": 66,
   "outputs": [
    {
     "name": "stdout",
     "output_type": "stream",
     "text": [
      "(922, 144)\n"
     ]
    },
    {
     "data": {
      "text/plain": "(4660, 144)"
     },
     "execution_count": 66,
     "metadata": {},
     "output_type": "execute_result"
    }
   ],
   "source": [
    "print(seiz_feats[\"1\"].shape)\n",
    "train_bckg_feats.shape"
   ],
   "metadata": {
    "collapsed": false
   }
  },
  {
   "cell_type": "markdown",
   "source": [
    "### Validation data"
   ],
   "metadata": {
    "collapsed": false
   }
  },
  {
   "cell_type": "markdown",
   "source": [],
   "metadata": {
    "collapsed": false
   }
  },
  {
   "cell_type": "code",
   "execution_count": 67,
   "outputs": [],
   "source": [
    "val_bckg = np.array(bckg_data[\"test\"][:])\n",
    "val_ids = np.array(bckg_data[\"test_ids\"][:])\n",
    "# train_ids = f.get('/bckg/train_ids').value\n",
    "val = pd.DataFrame(data=val_bckg.T)\n",
    "val[\"ids\"] = val_ids.T"
   ],
   "metadata": {
    "collapsed": false
   }
  },
  {
   "cell_type": "code",
   "execution_count": 68,
   "outputs": [],
   "source": [
    "Nids = val[\"ids\"].unique()\n",
    "val_bckg_feats = []\n",
    "for n in Nids:\n",
    "    data = val.loc[val[\"ids\"] == n, :].copy()\n",
    "    data.drop(columns=[\"ids\"], inplace=True)\n",
    "    for chunk in ff.df_chunker(data, size=segsize, overlap=0):\n",
    "        if len(chunk) < segsize:\n",
    "            continue\n",
    "        val_bckg_feats.append(extract_features(chunk.to_numpy(), fs))\n",
    "\n",
    "val_bckg_feats = np.stack(val_bckg_feats)"
   ],
   "metadata": {
    "collapsed": false
   }
  },
  {
   "cell_type": "markdown",
   "source": [
    "## Train the SVM"
   ],
   "metadata": {
    "collapsed": false
   }
  },
  {
   "cell_type": "code",
   "execution_count": 69,
   "outputs": [
    {
     "name": "stdout",
     "output_type": "stream",
     "text": [
      "[LibSVM][LibSVM][LibSVM][LibSVM][LibSVM][LibSVM][LibSVM][LibSVM][LibSVM][LibSVM][LibSVM][LibSVM][LibSVM][LibSVM][LibSVM][LibSVM][LibSVM][LibSVM][LibSVM][LibSVM][LibSVM][LibSVM][LibSVM][LibSVM][LibSVM][LibSVM][LibSVM][LibSVM][LibSVM][LibSVM][LibSVM][LibSVM][LibSVM][LibSVM][LibSVM][LibSVM][LibSVM][LibSVM][LibSVM][LibSVM][LibSVM][LibSVM][LibSVM][LibSVM][LibSVM][LibSVM][LibSVM][LibSVM][LibSVM][LibSVM][LibSVM][LibSVM][LibSVM][LibSVM][LibSVM][LibSVM][LibSVM][LibSVM][LibSVM][LibSVM][LibSVM][LibSVM][LibSVM][LibSVM][LibSVM][LibSVM][LibSVM][LibSVM][LibSVM][LibSVM][LibSVM][LibSVM][LibSVM][LibSVM][LibSVM][LibSVM][LibSVM][LibSVM][LibSVM][LibSVM][LibSVM][LibSVM][LibSVM][LibSVM][LibSVM][LibSVM][LibSVM][LibSVM][LibSVM][LibSVM][LibSVM][LibSVM][LibSVM][LibSVM][LibSVM][LibSVM][LibSVM][LibSVM][LibSVM][LibSVM][LibSVM][LibSVM][LibSVM][LibSVM][LibSVM][LibSVM][LibSVM][LibSVM][LibSVM][LibSVM][LibSVM][LibSVM][LibSVM][LibSVM][LibSVM][LibSVM][LibSVM][LibSVM][LibSVM][LibSVM][LibSVM][LibSVM][LibSVM][LibSVM][LibSVM][LibSVM][LibSVM][LibSVM][LibSVM][LibSVM][LibSVM][LibSVM][LibSVM][LibSVM][LibSVM][LibSVM][LibSVM][LibSVM][LibSVM][LibSVM][LibSVM][LibSVM][LibSVM][LibSVM][LibSVM][LibSVM][LibSVM]"
     ]
    }
   ],
   "source": [
    "f1 = []\n",
    "acc = []\n",
    "confmatrix = []\n",
    "tpr = []\n",
    "tnr = []\n",
    "\n",
    "parameters = {\"C\": [0.01, 0.1, 1, 10]}\n",
    "svc = SVC(class_weight=\"balanced\", kernel=\"rbf\", verbose=True)\n",
    "\n",
    "for leaveout in seiz_data.keys():\n",
    "    concat_seiz = np.concatenate(\n",
    "        [seiz_feats[k] for k in seiz_feats.keys() if k != leaveout], axis=0\n",
    "    )\n",
    "\n",
    "    X = np.vstack((train_bckg_feats, concat_seiz))\n",
    "    y = np.hstack((-1 * np.ones(len(train_bckg_feats)), np.ones(len(concat_seiz))))\n",
    "\n",
    "    clf = GridSearchCV(svc, parameters)\n",
    "    clf.fit(X, y)\n",
    "\n",
    "    X_val = np.vstack((seiz_feats[leaveout], val_bckg_feats))\n",
    "    y_val = np.hstack(\n",
    "        (np.ones(len(seiz_feats[leaveout])), -1 * np.ones(len(val_bckg_feats)))\n",
    "    )\n",
    "    y_pred = clf.predict(X_val)\n",
    "    f1.append(metrics.f1_score(y_val, y_pred))\n",
    "    acc.append(metrics.balanced_accuracy_score(y_val, y_pred))\n",
    "    tpr.append(metrics.recall_score(y_val, y_pred))\n",
    "    tnr.append(metrics.recall_score(y_val, y_pred, pos_label=-1))\n",
    "    confmatrix.append(metrics.confusion_matrix(y_val, y_pred))"
   ],
   "metadata": {
    "collapsed": false
   }
  },
  {
   "cell_type": "code",
   "execution_count": 70,
   "outputs": [
    {
     "name": "stdout",
     "output_type": "stream",
     "text": [
      "F1 =  0.8921453692848769\n",
      "Accuracy =  0.963654177937733\n"
     ]
    }
   ],
   "source": [
    "print(\"F1 = \", np.min(f1))\n",
    "print(\"Accuracy = \", np.mean(acc))"
   ],
   "metadata": {
    "collapsed": false
   }
  },
  {
   "cell_type": "code",
   "execution_count": 71,
   "outputs": [
    {
     "data": {
      "text/plain": "<Figure size 640x480 with 1 Axes>",
      "image/png": "[encoded data removed]"
     },
     "metadata": {},
     "output_type": "display_data"
    }
   ],
   "source": [
    "%matplotlib inline\n",
    "plt.boxplot([acc, f1, tnr, tpr])\n",
    "plt.grid(\"on\")\n",
    "plt.xticks([1, 2, 3, 4], [\"acc\", \"F1\", \"TNR\", \"TPR\"])\n",
    "plt.ylim(ymin=0, ymax=1)\n",
    "plt.show()"
   ],
   "metadata": {
    "collapsed": false
   }
  },
  {
   "cell_type": "code",
   "execution_count": 72,
   "outputs": [],
   "source": [
    "# Saving\n",
    "\n",
    "df = pd.DataFrame()\n",
    "df[\"Accuracy\"] = acc\n",
    "df[\"F1\"] = f1\n",
    "df[\"TNR\"] = tnr\n",
    "df[\"TPR\"] = tpr\n",
    "\n",
    "\n",
    "df.to_csv(\"./results_svm_chb01.csv\", index=False)"
   ],
   "metadata": {
    "collapsed": false
   }
  }
 ],
 "metadata": {
  "kernelspec": {
   "display_name": "Python 3",
   "language": "python",
   "name": "python3"
  },
  "language_info": {
   "codemirror_mode": {
    "name": "ipython",
    "version": 2
   },
   "file_extension": ".py",
   "mimetype": "text/x-python",
   "name": "python",
   "nbconvert_exporter": "python",
   "pygments_lexer": "ipython2",
   "version": "2.7.6"
  }
 },
 "nbformat": 4,
 "nbformat_minor": 0
}
